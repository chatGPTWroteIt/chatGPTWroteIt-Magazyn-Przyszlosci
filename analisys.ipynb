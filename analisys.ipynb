{
 "cells": [
  {
   "cell_type": "code",
   "execution_count": 1,
   "metadata": {},
   "outputs": [],
   "source": [
    "import pandas as pd"
   ]
  },
  {
   "cell_type": "code",
   "execution_count": 108,
   "metadata": {},
   "outputs": [
    {
     "name": "stdout",
     "output_type": "stream",
     "text": [
      "6000.0\n",
      "300\n",
      "200\n",
      "233.07692307692307\n",
      "40\n"
     ]
    }
   ],
   "source": [
    "df = pd.read_csv('data/list.csv')\n",
    "df.head()\n",
    "\n",
    "df[\"volume\"] = df[\"x\"] * df[\"y\"] * df[\"z\"]\n",
    "\n",
    "#min and max\n",
    "print(df['volume'].min()/1000)\n",
    "print(df['x'].min())\n",
    "print(df['y'].min())\n",
    "print(df['z'].mean())\n",
    "print(df['Waga (kg)'].max())"
   ]
  },
  {
   "cell_type": "code",
   "execution_count": 152,
   "metadata": {},
   "outputs": [],
   "source": [
    "class Cuboid:\n",
    "    width = 0\n",
    "    depth = 0\n",
    "    height = 0\n",
    "\n",
    "    def __init__(self, width, depth, height):\n",
    "        self.width = width\n",
    "        self.depth = depth\n",
    "        self.height = height\n",
    "\n",
    "\n",
    "class Package(Cuboid):\n",
    "    location = None\n",
    "\n",
    "    def __init__(self, df_package, location):\n",
    "        print(df_package, location)\n",
    "        super().__init__(self, df_package['x'], df_package['y'], df_package['z'])\n",
    "\n",
    "    def addLocation(self, location):\n",
    "        self.location = location\n",
    "\n",
    "\n",
    "class Cursor:\n",
    "    x = 0\n",
    "    y = 0\n",
    "    z = 0\n",
    "\n",
    "    def __init__(self, x, y, z):\n",
    "        self.x = x\n",
    "        self.y = y\n",
    "        self.z = z\n",
    "\n",
    "    def copy(self):\n",
    "        return Cursor(self.x, self.y, self.z)\n",
    "\n",
    "\n",
    "class Pallet(Cuboid):\n",
    "    packages = []\n",
    "\n",
    "    def __init__(self):\n",
    "        super().__init__(800, 1200, 2000 - 144)\n",
    "\n",
    "    def addPackage(self, df_package, location):\n",
    "        package = Package(df_package, location)\n",
    "        package.addLocation(location)\n",
    "        self.packages.append(package)\n",
    "\n",
    "\n",
    "def loadPackageTypes():\n",
    "    packageTypes = pd.read_csv(\"data/listaProduktow.csv\")\n",
    "    return packageTypes\n",
    "\n",
    "\n",
    "def loadOrder(orderNo):\n",
    "    order = pd.read_csv(f\"data/Zamowienia/Zamowienie{orderNo}.csv\")\n",
    "    return order"
   ]
  },
  {
   "cell_type": "code",
   "execution_count": 153,
   "metadata": {},
   "outputs": [],
   "source": [
    "\n",
    "\n",
    "def loadPackageTypes():\n",
    "    packageTypes = pd.read_csv(\"data/listaProduktow.csv\")\n",
    "    packageTypes.set_index(\"ID Produktu\", inplace=True)\n",
    "    packageTypes[['x', 'y','z']] = packageTypes['Wymiary (mm)'].str.split('x', n=2, expand=True)\n",
    "    packageTypes['x'] = packageTypes['x'].astype(int)\n",
    "    packageTypes['y'] = packageTypes['y'].astype(int)\n",
    "    packageTypes['z'] = packageTypes['z'].astype(int)\n",
    "\n",
    "    packageTypes.drop(columns=['Wymiary (mm)'], inplace=True)\n",
    "\n",
    "\n",
    "    return packageTypes\n",
    "\n",
    "def loadOrder(orderNo):\n",
    "    order = pd.read_csv(f\"data/Zamowienia/Zamowienie{orderNo}.csv\")\n",
    "    order.rename(columns={'Ilość': 'count'}, inplace=True)\n",
    "    return order\n",
    "\n"
   ]
  },
  {
   "cell_type": "code",
   "execution_count": 154,
   "metadata": {},
   "outputs": [
    {
     "name": "stdout",
     "output_type": "stream",
     "text": [
      "ID Produktu                        141\n",
      "Nazwa Produktu    Walking Cheeseburger\n",
      "Lokacja                        H407A08\n",
      "count                               12\n",
      "Waga (kg)                           20\n",
      "x                                  600\n",
      "y                                  400\n",
      "z                                  300\n",
      "Name: 0, dtype: object <__main__.Cursor object at 0x0000020443AEE350>\n"
     ]
    },
    {
     "ename": "TypeError",
     "evalue": "Cuboid.__init__() takes 4 positional arguments but 5 were given",
     "output_type": "error",
     "traceback": [
      "\u001b[1;31m---------------------------------------------------------------------------\u001b[0m",
      "\u001b[1;31mTypeError\u001b[0m                                 Traceback (most recent call last)",
      "Cell \u001b[1;32mIn[154], line 63\u001b[0m\n\u001b[0;32m     60\u001b[0m     ordered_df[ordered_df[\u001b[38;5;124m'\u001b[39m\u001b[38;5;124my\u001b[39m\u001b[38;5;124m'\u001b[39m] \u001b[38;5;241m==\u001b[39m depth][\u001b[38;5;124m'\u001b[39m\u001b[38;5;124mcount\u001b[39m\u001b[38;5;124m'\u001b[39m] \u001b[38;5;241m-\u001b[39m\u001b[38;5;241m=\u001b[39m \u001b[38;5;241m1\u001b[39m\n\u001b[0;32m     61\u001b[0m     \u001b[38;5;66;03m#print(ordered_df[df['y'] == depth])\u001b[39;00m\n\u001b[1;32m---> 63\u001b[0m     \u001b[43mpallet\u001b[49m\u001b[38;5;241;43m.\u001b[39;49m\u001b[43maddPackage\u001b[49m\u001b[43m(\u001b[49m\u001b[43mpackage\u001b[49m\u001b[43m,\u001b[49m\u001b[43m \u001b[49m\u001b[43mcursor\u001b[49m\u001b[43m)\u001b[49m\n\u001b[0;32m     64\u001b[0m     cursor\u001b[38;5;241m.\u001b[39my \u001b[38;5;241m+\u001b[39m\u001b[38;5;241m=\u001b[39m depth\n\u001b[0;32m     66\u001b[0m \u001b[38;5;66;03m#print(row_packages)\u001b[39;00m\n",
      "Cell \u001b[1;32mIn[152], line 44\u001b[0m, in \u001b[0;36mPallet.addPackage\u001b[1;34m(self, df_package, location)\u001b[0m\n\u001b[0;32m     43\u001b[0m \u001b[38;5;28;01mdef\u001b[39;00m \u001b[38;5;21maddPackage\u001b[39m(\u001b[38;5;28mself\u001b[39m, df_package, location):\n\u001b[1;32m---> 44\u001b[0m     package \u001b[38;5;241m=\u001b[39m \u001b[43mPackage\u001b[49m\u001b[43m(\u001b[49m\u001b[43mdf_package\u001b[49m\u001b[43m,\u001b[49m\u001b[43m \u001b[49m\u001b[43mlocation\u001b[49m\u001b[43m)\u001b[49m\n\u001b[0;32m     45\u001b[0m     package\u001b[38;5;241m.\u001b[39maddLocation(location)\n\u001b[0;32m     46\u001b[0m     \u001b[38;5;28mself\u001b[39m\u001b[38;5;241m.\u001b[39mpackages\u001b[38;5;241m.\u001b[39mappend(package)\n",
      "Cell \u001b[1;32mIn[152], line 17\u001b[0m, in \u001b[0;36mPackage.__init__\u001b[1;34m(self, df_package, location)\u001b[0m\n\u001b[0;32m     15\u001b[0m \u001b[38;5;28;01mdef\u001b[39;00m \u001b[38;5;21m__init__\u001b[39m(\u001b[38;5;28mself\u001b[39m, df_package, location):\n\u001b[0;32m     16\u001b[0m     \u001b[38;5;28mprint\u001b[39m(df_package, location)\n\u001b[1;32m---> 17\u001b[0m     \u001b[38;5;28;43msuper\u001b[39;49m\u001b[43m(\u001b[49m\u001b[43m)\u001b[49m\u001b[38;5;241;43m.\u001b[39;49m\u001b[38;5;21;43m__init__\u001b[39;49m\u001b[43m(\u001b[49m\u001b[38;5;28;43mself\u001b[39;49m\u001b[43m,\u001b[49m\u001b[43m \u001b[49m\u001b[43mdf_package\u001b[49m\u001b[43m[\u001b[49m\u001b[38;5;124;43m'\u001b[39;49m\u001b[38;5;124;43mx\u001b[39;49m\u001b[38;5;124;43m'\u001b[39;49m\u001b[43m]\u001b[49m\u001b[43m,\u001b[49m\u001b[43m \u001b[49m\u001b[43mdf_package\u001b[49m\u001b[43m[\u001b[49m\u001b[38;5;124;43m'\u001b[39;49m\u001b[38;5;124;43my\u001b[39;49m\u001b[38;5;124;43m'\u001b[39;49m\u001b[43m]\u001b[49m\u001b[43m,\u001b[49m\u001b[43m \u001b[49m\u001b[43mdf_package\u001b[49m\u001b[43m[\u001b[49m\u001b[38;5;124;43m'\u001b[39;49m\u001b[38;5;124;43mz\u001b[39;49m\u001b[38;5;124;43m'\u001b[39;49m\u001b[43m]\u001b[49m\u001b[43m)\u001b[49m\n",
      "\u001b[1;31mTypeError\u001b[0m: Cuboid.__init__() takes 4 positional arguments but 5 were given"
     ]
    }
   ],
   "source": [
    "def mnoz(tuples):\n",
    "    wynik = 1\n",
    "    for tuple in tuples:\n",
    "        x, y, z = tuple\n",
    "        wynik = wynik * z\n",
    "    return wynik\n",
    "\n",
    "\n",
    "def martyna(x,y):\n",
    "    return [400, 400, 400]\n",
    "\n",
    "\n",
    "def fillRow(pallet, package_row, cursor, rowSize):\n",
    "    for package_depth in package_row:\n",
    "        pallet.addPackage(package_depth, cursor, (rowSize[0], package_depth, rowSize[1]))\n",
    "        cursor.y += package_depth\n",
    "\n",
    "\n",
    "def fillLayer(pallet, package_layer, cursor, height):\n",
    "    for width, package_row in package_layer:\n",
    "        fillRow(pallet, package_row, cursor.copy(), (height, width))\n",
    "        cursor.x += width\n",
    "\n",
    "\n",
    "def package_order(raw_row, packages):\n",
    "    pass\n",
    "\n",
    "\n",
    "\n",
    "pallet = Pallet()\n",
    "types = loadPackageTypes()\n",
    "\n",
    "sumaSum = 0\n",
    "for i in range(1, 21):\n",
    "    df = loadOrder(i)\n",
    "    df = df.join(types, on=\"ID Produktu\", how=\"left\", rsuffix=\"_types\")\n",
    "    size_df = df.drop(\n",
    "        columns=[\n",
    "            \"Nazwa Produktu_types\",\n",
    "            # \"Nazwa Produktu\",\n",
    "            # \"Lokacja\",\n",
    "            # \"Waga (kg)\",\n",
    "            # \"ID Produktu\",\n",
    "        ]\n",
    "    )\n",
    "    heights = df[\"z\"].unique()\n",
    "    cursor = Cursor(0, 0, 0)\n",
    "    for height in heights:\n",
    "        flat_df = size_df[size_df[\"z\"] == height]\n",
    "        widths = flat_df[\"x\"].unique()\n",
    "        for width in widths:\n",
    "            curr_df = flat_df[flat_df[\"x\"] == width]\n",
    "\n",
    "            grouped_df = curr_df.groupby('y')['count'].sum()\n",
    "            tuples = [(y, count) for y, count in grouped_df.items()]\n",
    "            row_packages = martyna(tuples,pallet.width)\n",
    "            ordered_df = curr_df.sort_values(by=['Waga (kg)'], ascending=False)\n",
    "            for depth in row_packages:\n",
    "                package = ordered_df[ordered_df['y'] == depth].iloc[0]\n",
    "                ordered_df[ordered_df['y'] == depth]['count'] -= 1\n",
    "                #print(ordered_df[df['y'] == depth])\n",
    "\n",
    "                pallet.addPackage(package, cursor)\n",
    "                cursor.y += depth\n",
    "\n",
    "            #print(row_packages)\n",
    "\n",
    "\n",
    "            a = 3/0\n",
    "            cursor.x += width\n",
    "\n",
    "\n",
    "        cursor.z += height\n",
    "        print(tuples, width, height)\n",
    "\n",
    "# [\n",
    "#     [\n",
    "#         (600,400), (400,600)\n",
    "#     ]\n",
    "# ]"
   ]
  },
  {
   "cell_type": "code",
   "execution_count": 34,
   "metadata": {},
   "outputs": [],
   "source": [
    "df = df.groupby('z')[['x', 'y']].apply(lambda x: ', '.join(x.astype(str))).reset_index()"
   ]
  },
  {
   "cell_type": "code",
   "execution_count": 106,
   "metadata": {},
   "outputs": [
    {
     "name": "stdout",
     "output_type": "stream",
     "text": [
      "[200, 500, 300]\n"
     ]
    },
    {
     "ename": "TypeError",
     "evalue": "Pallet.addPackage() takes 3 positional arguments but 4 were given",
     "output_type": "error",
     "traceback": [
      "\u001b[1;31m---------------------------------------------------------------------------\u001b[0m",
      "\u001b[1;31mTypeError\u001b[0m                                 Traceback (most recent call last)",
      "Cell \u001b[1;32mIn[106], line 3\u001b[0m\n\u001b[0;32m      1\u001b[0m pallet \u001b[38;5;241m=\u001b[39m Pallet()\n\u001b[0;32m      2\u001b[0m cursor \u001b[38;5;241m=\u001b[39m Cursor(\u001b[38;5;241m0\u001b[39m, \u001b[38;5;241m0\u001b[39m, \u001b[38;5;241m0\u001b[39m)\n\u001b[1;32m----> 3\u001b[0m \u001b[43mfillLayer\u001b[49m\u001b[43m(\u001b[49m\u001b[43mpallet\u001b[49m\u001b[43m,\u001b[49m\u001b[43m \u001b[49m\u001b[43mlayer_order\u001b[49m\u001b[43m,\u001b[49m\u001b[43m \u001b[49m\u001b[43mcursor\u001b[49m\u001b[38;5;241;43m.\u001b[39;49m\u001b[43mcopy\u001b[49m\u001b[43m(\u001b[49m\u001b[43m)\u001b[49m\u001b[43m,\u001b[49m\u001b[43m \u001b[49m\u001b[38;5;241;43m300\u001b[39;49m\u001b[43m)\u001b[49m\n\u001b[0;32m      4\u001b[0m \u001b[38;5;28mprint\u001b[39m(pallet\u001b[38;5;241m.\u001b[39mpackages)\n",
      "Cell \u001b[1;32mIn[104], line 28\u001b[0m, in \u001b[0;36mfillLayer\u001b[1;34m(pallet, package_layer, cursor, height)\u001b[0m\n\u001b[0;32m     26\u001b[0m \u001b[38;5;28;01mfor\u001b[39;00m width, package_row \u001b[38;5;129;01min\u001b[39;00m package_layer:\n\u001b[0;32m     27\u001b[0m     \u001b[38;5;28mprint\u001b[39m(package_row)\n\u001b[1;32m---> 28\u001b[0m     \u001b[43mfillRow\u001b[49m\u001b[43m(\u001b[49m\u001b[43mpallet\u001b[49m\u001b[43m,\u001b[49m\u001b[43m \u001b[49m\u001b[43mpackage_row\u001b[49m\u001b[43m,\u001b[49m\u001b[43m \u001b[49m\u001b[43mcursor\u001b[49m\u001b[38;5;241;43m.\u001b[39;49m\u001b[43mcopy\u001b[49m\u001b[43m(\u001b[49m\u001b[43m)\u001b[49m\u001b[43m,\u001b[49m\u001b[43m \u001b[49m\u001b[43m(\u001b[49m\u001b[43mheight\u001b[49m\u001b[43m,\u001b[49m\u001b[43m \u001b[49m\u001b[43mwidth\u001b[49m\u001b[43m)\u001b[49m\u001b[43m)\u001b[49m\n\u001b[0;32m     29\u001b[0m     cursor\u001b[38;5;241m.\u001b[39mx \u001b[38;5;241m+\u001b[39m\u001b[38;5;241m=\u001b[39m width\n",
      "Cell \u001b[1;32mIn[104], line 21\u001b[0m, in \u001b[0;36mfillRow\u001b[1;34m(pallet, package_row, cursor, rowSize)\u001b[0m\n\u001b[0;32m     19\u001b[0m \u001b[38;5;28;01mdef\u001b[39;00m \u001b[38;5;21mfillRow\u001b[39m(pallet, package_row, cursor, rowSize):\n\u001b[0;32m     20\u001b[0m     \u001b[38;5;28;01mfor\u001b[39;00m package_depth \u001b[38;5;129;01min\u001b[39;00m package_row:\n\u001b[1;32m---> 21\u001b[0m         \u001b[43mpallet\u001b[49m\u001b[38;5;241;43m.\u001b[39;49m\u001b[43maddPackage\u001b[49m\u001b[43m(\u001b[49m\u001b[43mpackage_depth\u001b[49m\u001b[43m,\u001b[49m\u001b[43m \u001b[49m\u001b[43mcursor\u001b[49m\u001b[43m,\u001b[49m\u001b[43m \u001b[49m\u001b[43m(\u001b[49m\u001b[43mrowSize\u001b[49m\u001b[43m[\u001b[49m\u001b[38;5;241;43m0\u001b[39;49m\u001b[43m]\u001b[49m\u001b[43m,\u001b[49m\u001b[43m \u001b[49m\u001b[43mpackage_depth\u001b[49m\u001b[43m,\u001b[49m\u001b[43m \u001b[49m\u001b[43mrowSize\u001b[49m\u001b[43m[\u001b[49m\u001b[38;5;241;43m1\u001b[39;49m\u001b[43m]\u001b[49m\u001b[43m)\u001b[49m\u001b[43m)\u001b[49m\n\u001b[0;32m     22\u001b[0m         cursor\u001b[38;5;241m.\u001b[39my \u001b[38;5;241m+\u001b[39m\u001b[38;5;241m=\u001b[39m package_depth\n",
      "\u001b[1;31mTypeError\u001b[0m: Pallet.addPackage() takes 3 positional arguments but 4 were given"
     ]
    }
   ],
   "source": [
    "pallet = Pallet()\n",
    "cursor = Cursor(0, 0, 0)\n",
    "fillLayer(pallet, layer_order, cursor.copy(), 300)\n",
    "print(pallet.packages)"
   ]
  },
  {
   "cell_type": "code",
   "execution_count": null,
   "metadata": {},
   "outputs": [],
   "source": []
  }
 ],
 "metadata": {
  "kernelspec": {
   "display_name": "Python 3",
   "language": "python",
   "name": "python3"
  },
  "language_info": {
   "codemirror_mode": {
    "name": "ipython",
    "version": 3
   },
   "file_extension": ".py",
   "mimetype": "text/x-python",
   "name": "python",
   "nbconvert_exporter": "python",
   "pygments_lexer": "ipython3",
   "version": "3.10.7"
  }
 },
 "nbformat": 4,
 "nbformat_minor": 2
}
